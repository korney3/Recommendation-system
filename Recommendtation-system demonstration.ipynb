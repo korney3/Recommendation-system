{
 "cells": [
  {
   "cell_type": "code",
   "execution_count": null,
   "metadata": {},
   "outputs": [],
   "source": [
    "from recommendation import Hybrid_Rec_System_Prediction\n",
    "import numpy as np"
   ]
  },
  {
   "cell_type": "markdown",
   "metadata": {},
   "source": [
    "# Running for determinant customer ids"
   ]
  },
  {
   "cell_type": "markdown",
   "metadata": {},
   "source": [
    "### Get list of random customer ids"
   ]
  },
  {
   "cell_type": "code",
   "execution_count": 13,
   "metadata": {},
   "outputs": [],
   "source": [
    "NUMBER_OF_USERS=43289\n",
    "ids=np.random.randint(low=0,high=43289-1,size=(10))"
   ]
  },
  {
   "cell_type": "markdown",
   "metadata": {},
   "source": [
    "### Model obtains 2 parameters\n",
    "\n",
    "`N_COMPONENTS` - number of dimensions of embeddings for customer-transaction information\n",
    "\n",
    "`N_EPOCHS` - number of epochs for model training"
   ]
  },
  {
   "cell_type": "code",
   "execution_count": 14,
   "metadata": {},
   "outputs": [],
   "source": [
    "N_COMPONENTS=30\n",
    "N_EPOCHS=10"
   ]
  },
  {
   "cell_type": "markdown",
   "metadata": {},
   "source": [
    "### Running model training and print info about customers from `ids`"
   ]
  },
  {
   "cell_type": "code",
   "execution_count": 4,
   "metadata": {},
   "outputs": [
    {
     "name": "stdout",
     "output_type": "stream",
     "text": [
      "Number of users in system:\n",
      "43289\n",
      "Epoch 0\n",
      "Epoch 1\n",
      "Epoch 2\n",
      "Epoch 3\n",
      "Epoch 4\n",
      "Epoch 5\n",
      "Epoch 6\n",
      "Epoch 7\n",
      "Epoch 8\n",
      "Epoch 9\n",
      "done train\n"
     ]
    },
    {
     "name": "stderr",
     "output_type": "stream",
     "text": [
      "\r",
      "0it [00:00, ?it/s]"
     ]
    },
    {
     "name": "stdout",
     "output_type": "stream",
     "text": [
      "Customer Id (9992)\n",
      "Gender: M\n",
      "Age: 30\n",
      "Number of children: 0\n",
      "    merchant_mcc                                 edited_description\n",
      "0           4112                                 Passenger Railways\n",
      "1           5200                       Home Supply Warehouse Stores\n",
      "2           5211               Lumber and Building Materials Stores\n",
      "3           5399                          Misc. General Merchandise\n",
      "4           5411                       Grocery Stores, Supermarkets\n",
      "5           5499  Misc. Food Stores – Convenience Stores and Spe...\n",
      "6           5511  Car and Truck Dealers (New and Used) Sales, Se...\n",
      "7           5541  Service Stations ( with or without ancillary s...\n",
      "8           5651                             Family Clothing Stores\n",
      "9           5691                  Men’s and Women’s Clothing Stores\n",
      "10          5712  Furniture, Home Furnishings, and Equipment Sto...\n",
      "Customer Id (9992): Recommended Topics: \n",
      "   merchant_mcc                                 edited_description\n",
      "0          4215  Courier Services – Air or Ground, Freight forw...\n",
      "3          5813  Drinking Places (Alcoholic Beverages), Bars, T...\n",
      "4          5999          Miscellaneous and Specialty Retail Stores\n",
      "5          5722                         Household Appliance Stores\n",
      "7          5993                            Cigar Stores and Stands\n",
      "9          4121                            Taxicabs and Limousines\n"
     ]
    },
    {
     "name": "stderr",
     "output_type": "stream",
     "text": [
      "\r",
      "1it [00:01,  1.20s/it]"
     ]
    },
    {
     "name": "stdout",
     "output_type": "stream",
     "text": [
      "Customer Id (10292)\n",
      "Gender: F\n",
      "Age: 35\n",
      "Number of children: 0\n",
      "    merchant_mcc                                 edited_description\n",
      "0           4121                            Taxicabs and Limousines\n",
      "1           4511     Airlines, Air Carriers ( not listed elsewhere)\n",
      "2           5047  Medical, Dental Ophthalmic, Hospital Equipment...\n",
      "3           5331                                     Variety Stores\n",
      "4           5411                       Grocery Stores, Supermarkets\n",
      "5           5499  Misc. Food Stores – Convenience Stores and Spe...\n",
      "6           5511  Car and Truck Dealers (New and Used) Sales, Se...\n",
      "7           5541  Service Stations ( with or without ancillary s...\n",
      "8           5661                                        Shoe Stores\n",
      "9           5691                  Men’s and Women’s Clothing Stores\n",
      "10          5712  Furniture, Home Furnishings, and Equipment Sto...\n",
      "Customer Id (10292): Recommended Topics: \n",
      "    merchant_mcc                         edited_description\n",
      "2           5542                  Automated Fuel Dispensers\n",
      "3           5941                      Sporting Goods Stores\n",
      "5           5722                 Household Appliance Stores\n",
      "6           5995  Pet Shops, Pet Foods, and Supplies Stores\n",
      "7           5999  Miscellaneous and Specialty Retail Stores\n",
      "8           7298                    Health and Beauty Shops\n",
      "10          5812              Eating places and Restaurants\n"
     ]
    },
    {
     "name": "stderr",
     "output_type": "stream",
     "text": [
      "\r",
      "2it [00:02,  1.11s/it]"
     ]
    },
    {
     "name": "stdout",
     "output_type": "stream",
     "text": [
      "Customer Id (16456)\n",
      "Gender: F\n",
      "Age: 55\n",
      "Number of children: 0\n",
      "   merchant_mcc                                 edited_description\n",
      "0          5331                                     Variety Stores\n",
      "1          5541  Service Stations ( with or without ancillary s...\n",
      "2          5921            Package Stores – Beer, Wine, and Liquor\n",
      "3          5993                            Cigar Stores and Stands\n",
      "Customer Id (16456): Recommended Topics: \n",
      "    merchant_mcc                                 edited_description\n",
      "0           5945                         Hobby, Toy, and Game Shops\n",
      "4           5912                         Drug Stores and Pharmacies\n",
      "5           5977                                    Cosmetic Stores\n",
      "6           5814                              Fast Food Restaurants\n",
      "8           8011  Doctors and Physicians (Not Elsewhere Classified)\n",
      "9           5999          Miscellaneous and Specialty Retail Stores\n",
      "10          5661                                        Shoe Stores\n"
     ]
    },
    {
     "name": "stderr",
     "output_type": "stream",
     "text": [
      "\r",
      "3it [00:03,  1.07s/it]"
     ]
    },
    {
     "name": "stdout",
     "output_type": "stream",
     "text": [
      "Customer Id (10518)\n",
      "Gender: M\n",
      "Age: 30\n",
      "Number of children: 0\n",
      "    merchant_mcc                                 edited_description\n",
      "0           4814           Fax services, Telecommunication Services\n",
      "1           5311                                  Department Stores\n",
      "2           5331                                     Variety Stores\n",
      "3           5411                       Grocery Stores, Supermarkets\n",
      "4           5499  Misc. Food Stores – Convenience Stores and Spe...\n",
      "5           5533               Automotive Parts, Accessories Stores\n",
      "6           5541  Service Stations ( with or without ancillary s...\n",
      "7           5912                         Drug Stores and Pharmacies\n",
      "8           5921            Package Stores – Beer, Wine, and Liquor\n",
      "9           5993                            Cigar Stores and Stands\n",
      "10          8999     Professional Services ( Not Elsewhere Defined)\n",
      "Customer Id (10518): Recommended Topics: \n",
      "    merchant_mcc                                 edited_description\n",
      "0           5661                                        Shoe Stores\n",
      "1           5814                              Fast Food Restaurants\n",
      "3           5948                               Leather Foods Stores\n",
      "8           7832                            Motion Picture Theaters\n",
      "10          5813  Drinking Places (Alcoholic Beverages), Bars, T...\n"
     ]
    },
    {
     "name": "stderr",
     "output_type": "stream",
     "text": [
      "\r",
      "4it [00:04,  1.07s/it]"
     ]
    },
    {
     "name": "stdout",
     "output_type": "stream",
     "text": [
      "Customer Id (41157)\n",
      "Gender: M\n",
      "Age: 30\n",
      "Number of children: 0\n",
      "    merchant_mcc                                 edited_description\n",
      "0           4111  Local/Suburban Commuter Passenger Transportati...\n",
      "1           4121                            Taxicabs and Limousines\n",
      "2           4812  Telecommunications Equipment including telepho...\n",
      "3           4814           Fax services, Telecommunication Services\n",
      "4           5331                                     Variety Stores\n",
      "5           5399                          Misc. General Merchandise\n",
      "6           5411                       Grocery Stores, Supermarkets\n",
      "7           5541  Service Stations ( with or without ancillary s...\n",
      "8           5691                  Men’s and Women’s Clothing Stores\n",
      "9           5811                                           Caterers\n",
      "10          5812                      Eating places and Restaurants\n",
      "Customer Id (41157): Recommended Topics: \n",
      "    merchant_mcc                                 edited_description\n",
      "0           5999          Miscellaneous and Specialty Retail Stores\n",
      "2           5813  Drinking Places (Alcoholic Beverages), Bars, T...\n",
      "3           5816                               Digital Goods: Games\n",
      "4           6051  Non-Financial Institutions – Foreign Currency,...\n",
      "6           5992                                           Florists\n",
      "7           7299  Miscellaneous Personal Services ( not elsewher...\n",
      "8           5462                                           Bakeries\n",
      "9           5699          Miscellaneous Apparel and Accessory Shops\n",
      "10          8021                         Dentists and Orthodontists\n"
     ]
    },
    {
     "name": "stderr",
     "output_type": "stream",
     "text": [
      "\r",
      "5it [00:05,  1.04s/it]"
     ]
    },
    {
     "name": "stdout",
     "output_type": "stream",
     "text": [
      "Customer Id (10786)\n",
      "Gender: M\n",
      "Age: 30\n",
      "Number of children: -1\n",
      "    merchant_mcc                                 edited_description\n",
      "0           4111  Local/Suburban Commuter Passenger Transportati...\n",
      "1           4112                                 Passenger Railways\n",
      "2           4121                            Taxicabs and Limousines\n",
      "3           4215  Courier Services – Air or Ground, Freight forw...\n",
      "4           5311                                  Department Stores\n",
      "5           5331                                     Variety Stores\n",
      "6           5399                          Misc. General Merchandise\n",
      "7           5411                       Grocery Stores, Supermarkets\n",
      "8           5499  Misc. Food Stores – Convenience Stores and Spe...\n",
      "9           5541  Service Stations ( with or without ancillary s...\n",
      "10          5691                  Men’s and Women’s Clothing Stores\n",
      "Customer Id (10786): Recommended Topics: \n",
      "    merchant_mcc                                 edited_description\n",
      "0           7994                  Video Game Arcades/Establishments\n",
      "1           5912                         Drug Stores and Pharmacies\n",
      "4           5995          Pet Shops, Pet Foods, and Supplies Stores\n",
      "5           5816                               Digital Goods: Games\n",
      "6           5812                      Eating places and Restaurants\n",
      "8           5983   Fuel – Fuel Oil, Wood, Coal, Liquefied Petroleum\n",
      "9           7829  Motion Pictures and Video Tape Production and ...\n",
      "10          7512           Car Rental Companies ( Not Listed Below)\n"
     ]
    },
    {
     "name": "stderr",
     "output_type": "stream",
     "text": [
      "\r",
      "6it [00:06,  1.03s/it]"
     ]
    },
    {
     "name": "stdout",
     "output_type": "stream",
     "text": [
      "Customer Id (27876)\n",
      "Gender: M\n",
      "Age: 35\n",
      "Number of children: 1\n",
      "    merchant_mcc                                 edited_description\n",
      "0           5122   Drugs, Drug Proprietors, and Druggist’s Sundries\n",
      "1           5200                       Home Supply Warehouse Stores\n",
      "2           5399                          Misc. General Merchandise\n",
      "3           5411                       Grocery Stores, Supermarkets\n",
      "4           5499  Misc. Food Stores – Convenience Stores and Spe...\n",
      "5           5533               Automotive Parts, Accessories Stores\n",
      "6           5641                Children’s and Infant’s Wear Stores\n",
      "7           5691                  Men’s and Women’s Clothing Stores\n",
      "8           5732                                   Electronic Sales\n",
      "9           5812                      Eating places and Restaurants\n",
      "10          5814                              Fast Food Restaurants\n",
      "Customer Id (27876): Recommended Topics: \n",
      "   merchant_mcc                                 edited_description\n",
      "0          5699          Miscellaneous Apparel and Accessory Shops\n",
      "1          5211               Lumber and Building Materials Stores\n",
      "5          7299  Miscellaneous Personal Services ( not elsewher...\n",
      "6          5542                          Automated Fuel Dispensers\n",
      "9          5945                         Hobby, Toy, and Game Shops\n"
     ]
    },
    {
     "name": "stderr",
     "output_type": "stream",
     "text": [
      "\r",
      "7it [00:07,  1.02s/it]"
     ]
    },
    {
     "name": "stdout",
     "output_type": "stream",
     "text": [
      "Customer Id (5238)\n",
      "Gender: F\n",
      "Age: 30\n",
      "Number of children: 0\n",
      "    merchant_mcc                                 edited_description\n",
      "0           4111  Local/Suburban Commuter Passenger Transportati...\n",
      "1           4121                            Taxicabs and Limousines\n",
      "2           5331                                     Variety Stores\n",
      "3           5411                       Grocery Stores, Supermarkets\n",
      "4           5621                       Women’s Ready-to-Wear Stores\n",
      "5           5641                Children’s and Infant’s Wear Stores\n",
      "6           5651                             Family Clothing Stores\n",
      "7           5661                                        Shoe Stores\n",
      "8           5691                  Men’s and Women’s Clothing Stores\n",
      "9           5812                      Eating places and Restaurants\n",
      "10          5813  Drinking Places (Alcoholic Beverages), Bars, T...\n",
      "Customer Id (5238): Recommended Topics: \n",
      "   merchant_mcc                                 edited_description\n",
      "0          7512           Car Rental Companies ( Not Listed Below)\n",
      "2          9311                                       Tax Payments\n",
      "3          7922  Theatrical Producers (Except Motion Pictures),...\n",
      "4          5735                                       Record Shops\n",
      "6          5943  Stationery Stores, Office and School Supply St...\n",
      "7          5912                         Drug Stores and Pharmacies\n"
     ]
    },
    {
     "name": "stderr",
     "output_type": "stream",
     "text": [
      "\r",
      "8it [00:08,  1.06s/it]"
     ]
    },
    {
     "name": "stdout",
     "output_type": "stream",
     "text": [
      "Customer Id (22935)\n",
      "Gender: M\n",
      "Age: 55\n",
      "Number of children: 0\n",
      "    merchant_mcc                                 edited_description\n",
      "0           4111  Local/Suburban Commuter Passenger Transportati...\n",
      "1           4900        Electric, Gas, Sanitary and Water Utilities\n",
      "2           5200                       Home Supply Warehouse Stores\n",
      "3           5211               Lumber and Building Materials Stores\n",
      "4           5261           Nurseries – Lawn and Garden Supply Store\n",
      "5           5411                       Grocery Stores, Supermarkets\n",
      "6           5451                              Dairy Products Stores\n",
      "7           5499  Misc. Food Stores – Convenience Stores and Spe...\n",
      "8           5541  Service Stations ( with or without ancillary s...\n",
      "9           5712  Furniture, Home Furnishings, and Equipment Sto...\n",
      "10          5732                                   Electronic Sales\n",
      "Customer Id (22935): Recommended Topics: \n",
      "   merchant_mcc                              edited_description\n",
      "0          5814                           Fast Food Restaurants\n",
      "2          5942                                     Book Stores\n",
      "3          4511  Airlines, Air Carriers ( not listed elsewhere)\n",
      "4          5816                            Digital Goods: Games\n",
      "7          5812                   Eating places and Restaurants\n"
     ]
    },
    {
     "name": "stderr",
     "output_type": "stream",
     "text": [
      "\r",
      "9it [00:09,  1.04s/it]"
     ]
    },
    {
     "name": "stdout",
     "output_type": "stream",
     "text": [
      "Customer Id (26090)\n",
      "Gender: M\n",
      "Age: 30\n",
      "Number of children: -1\n",
      "    merchant_mcc                                 edited_description\n",
      "0           4121                            Taxicabs and Limousines\n",
      "1           4215  Courier Services – Air or Ground, Freight forw...\n",
      "2           5399                          Misc. General Merchandise\n",
      "3           5411                       Grocery Stores, Supermarkets\n",
      "4           5462                                           Bakeries\n",
      "5           5499  Misc. Food Stores – Convenience Stores and Spe...\n",
      "6           5533               Automotive Parts, Accessories Stores\n",
      "7           5541  Service Stations ( with or without ancillary s...\n",
      "8           5641                Children’s and Infant’s Wear Stores\n",
      "9           5651                             Family Clothing Stores\n",
      "10          5732                                   Electronic Sales\n",
      "Customer Id (26090): Recommended Topics: \n",
      "    merchant_mcc                                 edited_description\n",
      "0           5977                                    Cosmetic Stores\n",
      "1           4112                                 Passenger Railways\n",
      "2           5813  Drinking Places (Alcoholic Beverages), Bars, T...\n",
      "3           5814                              Fast Food Restaurants\n",
      "4           5691                  Men’s and Women’s Clothing Stores\n",
      "5           7278                    Buying/Shopping Services, Clubs\n",
      "8           5912                         Drug Stores and Pharmacies\n",
      "10          5999          Miscellaneous and Specialty Retail Stores\n"
     ]
    },
    {
     "name": "stderr",
     "output_type": "stream",
     "text": [
      "10it [00:10,  1.09s/it]\n"
     ]
    },
    {
     "name": "stdout",
     "output_type": "stream",
     "text": [
      "0\n"
     ]
    }
   ],
   "source": [
    "Hybrid_Rec_System_Prediction(cust_ids=ids,n_components=N_COMPONENTS, n_epochs=N_EPOCHS, print_flag=True)"
   ]
  },
  {
   "cell_type": "markdown",
   "metadata": {},
   "source": [
    "### List of recommendations is stored in `customer_topic.json` file"
   ]
  },
  {
   "cell_type": "code",
   "execution_count": 12,
   "metadata": {},
   "outputs": [
    {
     "name": "stdout",
     "output_type": "stream",
     "text": [
      "{\"484143\": [\"4215\", \"5813\", \"5999\", \"5722\", \"5993\", \"4121\"], \"905771\": [\"5542\", \"5941\", \"5941\", \"5722\", \"5995\", \"5999\", \"7298\", \"5812\"], \"708987\": [\"5945\", \"5912\", \"5977\", \"5814\", \"5814\", \"8011\", \"5999\", \"5661\"], \"264334\": [\"5661\", \"5814\", \"5814\", \"5948\", \"7832\", \"5813\"], \"149235\": [\"5999\", \"5813\", \"5816\", \"6051\", \"6051\", \"5992\", \"7299\", \"5462\", \"5699\", \"8021\"], \"191108\": [\"7994\", \"5912\", \"5995\", \"5816\", \"5812\", \"5983\", \"7829\", \"7512\"], \"90317\": [\"5699\", \"5211\", \"5211\", \"7299\", \"5542\", \"5945\"], \"301948\": [\"7512\", \"9311\", \"7922\", \"5735\", \"5943\", \"5912\"], \"577718\": [\"5814\", \"5814\", \"5942\", \"4511\", \"5816\", \"5812\", \"5812\"], \"86220\": [\"5977\", \"4112\", \"5813\", \"5814\", \"5691\", \"7278\", \"5912\", \"5999\"]}\n"
     ]
    }
   ],
   "source": [
    "with open('customer_topic.json','r') as f:\n",
    "    print(f.read())"
   ]
  },
  {
   "cell_type": "markdown",
   "metadata": {},
   "source": [
    "### Detailed information (which was printed) is stored in `detailed recommendation` file\n"
   ]
  },
  {
   "cell_type": "code",
   "execution_count": 9,
   "metadata": {},
   "outputs": [
    {
     "name": "stdout",
     "output_type": "stream",
     "text": [
      "Customer Id (9992)\n",
      "Пол: M\n",
      "Возраст: 30\n",
      "    merchant_mcc                                 edited_description\n",
      "0           4112                                 Passenger Railways\n",
      "1           5200                       Home Supply Warehouse Stores\n",
      "2           5211               Lumber and Building Materials Stores\n",
      "3           5399                          Misc. General Merchandise\n",
      "4           5411                       Grocery Stores, Supermarkets\n",
      "5           5499  Misc. Food Stores – Convenience Stores and Spe...\n",
      "6           5511  Car and Truck Dealers (New and Used) Sales, Se...\n",
      "7           5541  Service Stations ( with or without ancillary s...\n",
      "8           5651                             Family Clothing Stores\n",
      "9           5691                  Men’s and Women’s Clothing Stores\n",
      "10          5712  Furniture, Home Furnishings, and Equipment Sto...\n",
      "Customer Id (9992): Recommended Topics: \n",
      "   merchant_mcc                                 edited_description\n",
      "0          4215  Courier Services – Air or Ground, Freight forw...\n",
      "3          5813  Drinking Places (Alcoholic Beverages), Bars, T...\n",
      "4          5999          Miscellaneous and Specialty Retail Stores\n",
      "5          5722                         Household Appliance Stores\n",
      "7          5993                            Cigar Stores and Stands\n",
      "9          4121                            Taxicabs and Limousines\n",
      "Customer Id (10292)\n",
      "Пол: Ж\n",
      "Возраст: 35\n",
      "    merchant_mcc                                 edited_description\n",
      "0           4121                            Taxicabs and Limousines\n",
      "1           4511     Airlines, Air Carriers ( not listed elsewhere)\n",
      "2           5047  Medical, Dental Ophthalmic, Hospital Equipment...\n",
      "3           5331                                     Variety Stores\n",
      "4           5411                       Grocery Stores, Supermarkets\n",
      "5           5499  Misc. Food Stores – Convenience Stores and Spe...\n",
      "6           5511  Car and Truck Dealers (New and Used) Sales, Se...\n",
      "7           5541  Service Stations ( with or without ancillary s...\n",
      "8           5661                                        Shoe Stores\n",
      "9           5691                  Men’s and Women’s Clothing Stores\n",
      "10          5712  Furniture, Home Furnishings, and Equipment Sto...\n",
      "Customer Id (10292): Recommended Topics: \n",
      "    merchant_mcc                         edited_description\n",
      "2           5542                  Automated Fuel Dispensers\n",
      "3           5941                      Sporting Goods Stores\n",
      "5           5722                 Household Appliance Stores\n",
      "6           5995  Pet Shops, Pet Foods, and Supplies Stores\n",
      "7           5999  Miscellaneous and Specialty Retail Stores\n",
      "8           7298                    Health and Beauty Shops\n",
      "10          5812              Eating places and Restaurants\n",
      "Customer Id (16456)\n",
      "Пол: Ж\n",
      "Возраст: 55\n",
      "   merchant_mcc                                 edited_description\n",
      "0          5331                                     Variety Stores\n",
      "1          5541  Service Stations ( with or without ancillary s...\n",
      "2          5921            Package Stores – Beer, Wine, and Liquor\n",
      "3          5993                            Cigar Stores and Stands\n",
      "Customer Id (16456): Recommended Topics: \n",
      "    merchant_mcc                                 edited_description\n",
      "0           5945                         Hobby, Toy, and Game Shops\n",
      "4           5912                         Drug Stores and Pharmacies\n",
      "5           5977                                    Cosmetic Stores\n",
      "6           5814                              Fast Food Restaurants\n",
      "8           8011  Doctors and Physicians (Not Elsewhere Classified)\n",
      "9           5999          Miscellaneous and Specialty Retail Stores\n",
      "10          5661                                        Shoe Stores\n",
      "Customer Id (10518)\n",
      "Пол: M\n",
      "Возраст: 30\n",
      "    merchant_mcc                                 edited_description\n",
      "0           4814           Fax services, Telecommunication Services\n",
      "1           5311                                  Department Stores\n",
      "2           5331                                     Variety Stores\n",
      "3           5411                       Grocery Stores, Supermarkets\n",
      "4           5499  Misc. Food Stores – Convenience Stores and Spe...\n",
      "5           5533               Automotive Parts, Accessories Stores\n",
      "6           5541  Service Stations ( with or without ancillary s...\n",
      "7           5912                         Drug Stores and Pharmacies\n",
      "8           5921            Package Stores – Beer, Wine, and Liquor\n",
      "9           5993                            Cigar Stores and Stands\n",
      "10          8999     Professional Services ( Not Elsewhere Defined)\n",
      "Customer Id (10518): Recommended Topics: \n",
      "    merchant_mcc                                 edited_description\n",
      "0           5661                                        Shoe Stores\n",
      "1           5814                              Fast Food Restaurants\n",
      "3           5948                               Leather Foods Stores\n",
      "8           7832                            Motion Picture Theaters\n",
      "10          5813  Drinking Places (Alcoholic Beverages), Bars, T...\n",
      "Customer Id (41157)\n",
      "Пол: M\n",
      "Возраст: 30\n",
      "    merchant_mcc                                 edited_description\n",
      "0           4111  Local/Suburban Commuter Passenger Transportati...\n",
      "1           4121                            Taxicabs and Limousines\n",
      "2           4812  Telecommunications Equipment including telepho...\n",
      "3           4814           Fax services, Telecommunication Services\n",
      "4           5331                                     Variety Stores\n",
      "5           5399                          Misc. General Merchandise\n",
      "6           5411                       Grocery Stores, Supermarkets\n",
      "7           5541  Service Stations ( with or without ancillary s...\n",
      "8           5691                  Men’s and Women’s Clothing Stores\n",
      "9           5811                                           Caterers\n",
      "10          5812                      Eating places and Restaurants\n",
      "Customer Id (41157): Recommended Topics: \n",
      "    merchant_mcc                                 edited_description\n",
      "0           5999          Miscellaneous and Specialty Retail Stores\n",
      "2           5813  Drinking Places (Alcoholic Beverages), Bars, T...\n",
      "3           5816                               Digital Goods: Games\n",
      "4           6051  Non-Financial Institutions – Foreign Currency,...\n",
      "6           5992                                           Florists\n",
      "7           7299  Miscellaneous Personal Services ( not elsewher...\n",
      "8           5462                                           Bakeries\n",
      "9           5699          Miscellaneous Apparel and Accessory Shops\n",
      "10          8021                         Dentists and Orthodontists\n",
      "Customer Id (10786)\n",
      "Пол: M\n",
      "Возраст: 30\n",
      "    merchant_mcc                                 edited_description\n",
      "0           4111  Local/Suburban Commuter Passenger Transportati...\n",
      "1           4112                                 Passenger Railways\n",
      "2           4121                            Taxicabs and Limousines\n",
      "3           4215  Courier Services – Air or Ground, Freight forw...\n",
      "4           5311                                  Department Stores\n",
      "5           5331                                     Variety Stores\n",
      "6           5399                          Misc. General Merchandise\n",
      "7           5411                       Grocery Stores, Supermarkets\n",
      "8           5499  Misc. Food Stores – Convenience Stores and Spe...\n",
      "9           5541  Service Stations ( with or without ancillary s...\n",
      "10          5691                  Men’s and Women’s Clothing Stores\n",
      "Customer Id (10786): Recommended Topics: \n",
      "    merchant_mcc                                 edited_description\n",
      "0           7994                  Video Game Arcades/Establishments\n",
      "1           5912                         Drug Stores and Pharmacies\n",
      "4           5995          Pet Shops, Pet Foods, and Supplies Stores\n",
      "5           5816                               Digital Goods: Games\n",
      "6           5812                      Eating places and Restaurants\n",
      "8           5983   Fuel – Fuel Oil, Wood, Coal, Liquefied Petroleum\n",
      "9           7829  Motion Pictures and Video Tape Production and ...\n",
      "10          7512           Car Rental Companies ( Not Listed Below)\n",
      "Customer Id (27876)\n",
      "Пол: M\n",
      "Возраст: 35\n",
      "    merchant_mcc                                 edited_description\n",
      "0           5122   Drugs, Drug Proprietors, and Druggist’s Sundries\n",
      "1           5200                       Home Supply Warehouse Stores\n",
      "2           5399                          Misc. General Merchandise\n",
      "3           5411                       Grocery Stores, Supermarkets\n",
      "4           5499  Misc. Food Stores – Convenience Stores and Spe...\n",
      "5           5533               Automotive Parts, Accessories Stores\n",
      "6           5641                Children’s and Infant’s Wear Stores\n",
      "7           5691                  Men’s and Women’s Clothing Stores\n",
      "8           5732                                   Electronic Sales\n",
      "9           5812                      Eating places and Restaurants\n",
      "10          5814                              Fast Food Restaurants\n",
      "Customer Id (27876): Recommended Topics: \n",
      "   merchant_mcc                                 edited_description\n",
      "0          5699          Miscellaneous Apparel and Accessory Shops\n",
      "1          5211               Lumber and Building Materials Stores\n",
      "5          7299  Miscellaneous Personal Services ( not elsewher...\n",
      "6          5542                          Automated Fuel Dispensers\n",
      "9          5945                         Hobby, Toy, and Game Shops\n",
      "Customer Id (5238)\n",
      "Пол: Ж\n",
      "Возраст: 30\n",
      "    merchant_mcc                                 edited_description\n",
      "0           4111  Local/Suburban Commuter Passenger Transportati...\n",
      "1           4121                            Taxicabs and Limousines\n",
      "2           5331                                     Variety Stores\n",
      "3           5411                       Grocery Stores, Supermarkets\n",
      "4           5621                       Women’s Ready-to-Wear Stores\n",
      "5           5641                Children’s and Infant’s Wear Stores\n",
      "6           5651                             Family Clothing Stores\n",
      "7           5661                                        Shoe Stores\n",
      "8           5691                  Men’s and Women’s Clothing Stores\n",
      "9           5812                      Eating places and Restaurants\n",
      "10          5813  Drinking Places (Alcoholic Beverages), Bars, T...\n",
      "Customer Id (5238): Recommended Topics: \n",
      "   merchant_mcc                                 edited_description\n",
      "0          7512           Car Rental Companies ( Not Listed Below)\n",
      "2          9311                                       Tax Payments\n",
      "3          7922  Theatrical Producers (Except Motion Pictures),...\n",
      "4          5735                                       Record Shops\n",
      "6          5943  Stationery Stores, Office and School Supply St...\n",
      "7          5912                         Drug Stores and Pharmacies\n",
      "Customer Id (22935)\n",
      "Пол: M\n",
      "Возраст: 55\n",
      "    merchant_mcc                                 edited_description\n",
      "0           4111  Local/Suburban Commuter Passenger Transportati...\n",
      "1           4900        Electric, Gas, Sanitary and Water Utilities\n",
      "2           5200                       Home Supply Warehouse Stores\n",
      "3           5211               Lumber and Building Materials Stores\n",
      "4           5261           Nurseries – Lawn and Garden Supply Store\n",
      "5           5411                       Grocery Stores, Supermarkets\n",
      "6           5451                              Dairy Products Stores\n",
      "7           5499  Misc. Food Stores – Convenience Stores and Spe...\n",
      "8           5541  Service Stations ( with or without ancillary s...\n",
      "9           5712  Furniture, Home Furnishings, and Equipment Sto...\n",
      "10          5732                                   Electronic Sales\n",
      "Customer Id (22935): Recommended Topics: \n",
      "   merchant_mcc                              edited_description\n",
      "0          5814                           Fast Food Restaurants\n",
      "2          5942                                     Book Stores\n",
      "3          4511  Airlines, Air Carriers ( not listed elsewhere)\n",
      "4          5816                            Digital Goods: Games\n",
      "7          5812                   Eating places and Restaurants\n",
      "Customer Id (26090)\n",
      "Пол: M\n",
      "Возраст: 30\n",
      "    merchant_mcc                                 edited_description\n",
      "0           4121                            Taxicabs and Limousines\n",
      "1           4215  Courier Services – Air or Ground, Freight forw...\n",
      "2           5399                          Misc. General Merchandise\n",
      "3           5411                       Grocery Stores, Supermarkets\n",
      "4           5462                                           Bakeries\n",
      "5           5499  Misc. Food Stores – Convenience Stores and Spe...\n",
      "6           5533               Automotive Parts, Accessories Stores\n",
      "7           5541  Service Stations ( with or without ancillary s...\n",
      "8           5641                Children’s and Infant’s Wear Stores\n",
      "9           5651                             Family Clothing Stores\n",
      "10          5732                                   Electronic Sales\n",
      "Customer Id (26090): Recommended Topics: \n",
      "    merchant_mcc                                 edited_description\n",
      "0           5977                                    Cosmetic Stores\n",
      "1           4112                                 Passenger Railways\n",
      "2           5813  Drinking Places (Alcoholic Beverages), Bars, T...\n",
      "3           5814                              Fast Food Restaurants\n",
      "4           5691                  Men’s and Women’s Clothing Stores\n",
      "5           7278                    Buying/Shopping Services, Clubs\n",
      "8           5912                         Drug Stores and Pharmacies\n",
      "10          5999          Miscellaneous and Specialty Retail Stores\n"
     ]
    },
    {
     "name": "stdout",
     "output_type": "stream",
     "text": [
      "\n"
     ]
    }
   ],
   "source": [
    "with open('detailed_recommendation','r') as f:\n",
    "    print(f.read())"
   ]
  },
  {
   "cell_type": "code",
   "execution_count": null,
   "metadata": {},
   "outputs": [],
   "source": []
  }
 ],
 "metadata": {
  "kernelspec": {
   "display_name": "Python 3",
   "language": "python",
   "name": "python3"
  },
  "language_info": {
   "codemirror_mode": {
    "name": "ipython",
    "version": 3
   },
   "file_extension": ".py",
   "mimetype": "text/x-python",
   "name": "python",
   "nbconvert_exporter": "python",
   "pygments_lexer": "ipython3",
   "version": "3.6.5"
  }
 },
 "nbformat": 4,
 "nbformat_minor": 2
}
